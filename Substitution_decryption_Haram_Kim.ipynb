{
  "nbformat": 4,
  "nbformat_minor": 0,
  "metadata": {
    "colab": {
      "provenance": []
    },
    "kernelspec": {
      "name": "python3",
      "display_name": "Python 3"
    },
    "language_info": {
      "name": "python"
    }
  },
  "cells": [
    {
      "cell_type": "code",
      "execution_count": null,
      "metadata": {
        "colab": {
          "base_uri": "https://localhost:8080/"
        },
        "id": "OC_ZpugjPLFs",
        "outputId": "fb8b998a-126d-4eb7-e2de-1d38df02c1f8"
      },
      "outputs": [
        {
          "output_type": "stream",
          "name": "stdout",
          "text": [
            "thisisatest\n"
          ]
        }
      ],
      "source": [
        "def subsDec(m,key):\n",
        "  abc = \"abcdefghijklmnopqrstuvwxyz\"\n",
        "  m = m.lower()\n",
        "  key = key.lower()\n",
        "  ctext = \"\"\n",
        "\n",
        "  for char in m:\n",
        "    if char in abc:\n",
        "      ctext += abc[key.find(char)]\n",
        "\n",
        "  print(ctext)\n",
        "\n",
        "subsDec(\"KWXJXJCKTJK\",\"COMETUVWXYZABDFGHIJKLNPQRS\")"
      ]
    },
    {
      "cell_type": "code",
      "source": [],
      "metadata": {
        "id": "5GiX4s42Pci-"
      },
      "execution_count": null,
      "outputs": []
    }
  ]
}